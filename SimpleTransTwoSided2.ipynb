{
 "cells": [
  {
   "cell_type": "code",
   "execution_count": null,
   "metadata": {
    "pycharm": {
     "name": "#%%\n"
    }
   },
   "outputs": [],
   "source": [
    "from functools import partial\n",
    "from multiprocessing import Pool\n",
    "\n",
    "import iuliia\n",
    "import torch\n",
    "from joblib import Parallel, delayed\n",
    "from tokenizers import Tokenizer\n",
    "from tokenizers.decoders import ByteLevel as ByteLevelDecoder\n",
    "from tokenizers.models import BPE\n",
    "from tokenizers.pre_tokenizers import ByteLevel\n",
    "from tokenizers.trainers import BpeTrainer\n",
    "from torch import nn, optim\n",
    "from torchtext import data\n",
    "from torchtext.data import Field, Example, BucketIterator\n",
    "from tqdm import tqdm"
   ]
  },
  {
   "cell_type": "code",
   "execution_count": null,
   "metadata": {
    "pycharm": {
     "name": "#%%\n"
    }
   },
   "outputs": [],
   "source": [
    "BATCH_SIZE = 16\n",
    "EMBEDDING_SIZE = 200\n",
    "NUM_HEADS = 8\n",
    "NUM_ENCODERS = 6\n",
    "NUM_DECODERS = 6\n",
    "DROPOUT = 0.1\n",
    "HIDDEN_DIM = 1024\n",
    "LR = 0.001\n",
    "LOAD_MODEL = True\n",
    "NUM_EPOCH = 10\n",
    "SAVE_MODEL = True\n",
    "\n",
    "MAX_SIZE = 256\n",
    "MIN_SIZE = 5"
   ]
  },
  {
   "cell_type": "code",
   "execution_count": null,
   "metadata": {
    "pycharm": {
     "name": "#%%\n"
    }
   },
   "outputs": [],
   "source": [
    "## DATA LOADING#\n",
    "import os\n",
    "print('Reading datasets from disk ...', end='')\n",
    "#os.chdir(r'C:\\Users\\ysuho\\dl_hws\\data\\Homework3\\MHQG-like implementation')\n",
    "EN_FILE = './data/corpus.en_ru.1m.en'\n",
    "RU_FILE = './data/corpus.en_ru.1m.ru'\n",
    "device = torch.device(\"cpu\")\n",
    "\n",
    "src = Field(init_token = '<sos>', eos_token = '<eos>', tokenize=None)  # No need to tokenize because of BPE\n",
    "tgt = Field(init_token = '<sos>', eos_token = '<eos>', tokenize=None)  # No need to tokenize because of BPE\n",
    "tgt_rev = Field(init_token = '<sos>', eos_token = '<eos>', tokenize=None)  # No need to tokenize because of BPE\n",
    "named_fields = {'ru': ('src', src), 'en': ('tgt', tgt), 'en_rev': ('tgt_rev', tgt_rev)}\n",
    "fields = {name: field for name, field in named_fields.values()}\n",
    "\n",
    "src_data = open(RU_FILE).readlines()\n",
    "tgt_data = open(EN_FILE).readlines()\n",
    "print(' ✔')"
   ]
  },
  {
   "cell_type": "code",
   "execution_count": 4,
   "metadata": {
    "pycharm": {
     "name": "#%%\n"
    }
   },
   "outputs": [
    {
     "name": "stdout",
     "output_type": "stream",
     "text": [
      "Transliterating ..."
     ]
    },
    {
     "name": "stderr",
     "output_type": "stream",
     "text": [
      "100%|██████████| 1000000/1000000 [00:31<00:00, 32192.81it/s]\n"
     ]
    },
    {
     "name": "stdout",
     "output_type": "stream",
     "text": [
      " ✔\n"
     ]
    }
   ],
   "source": [
    "print('Transliterating ...', end='')\n",
    "## BPE tokenization\n",
    "NUM_PROCESSES=8\n",
    "pool = Pool(NUM_PROCESSES)\n",
    "src_data = Parallel(n_jobs=8)(delayed(partial(iuliia.translate, schema=iuliia.WIKIPEDIA))(x) for x in tqdm(src_data))\n",
    "print(' ✔')"
   ]
  },
  {
   "cell_type": "code",
   "execution_count": 5,
   "metadata": {
    "pycharm": {
     "name": "#%%\n"
    }
   },
   "outputs": [
    {
     "name": "stdout",
     "output_type": "stream",
     "text": [
      "Learning BPE ... ✔\n"
     ]
    }
   ],
   "source": [
    "print('Learning BPE ...', end='')\n",
    "tokenizer = Tokenizer(BPE())\n",
    "tokenizer.pre_tokenizer = ByteLevel()\n",
    "tokenizer.decoder = ByteLevelDecoder()\n",
    "trainer = BpeTrainer(special_tokens=[\"<sos>\", \"<eos>\", \"<unk>\", \"<pad>\"])\n",
    "tokenizer.train_from_iterator(src_data + tgt_data, trainer=trainer)\n",
    "print(' ✔')"
   ]
  },
  {
   "cell_type": "code",
   "execution_count": 6,
   "metadata": {
    "pycharm": {
     "name": "#%%\n"
    }
   },
   "outputs": [
    {
     "name": "stderr",
     "output_type": "stream",
     "text": [
      "  0%|          | 1281/1000000 [00:00<01:17, 12807.20it/s]"
     ]
    },
    {
     "name": "stdout",
     "output_type": "stream",
     "text": [
      "BPE encoding source text ..."
     ]
    },
    {
     "name": "stderr",
     "output_type": "stream",
     "text": [
      "100%|██████████| 1000000/1000000 [01:19<00:00, 12522.48it/s]\n",
      "  0%|          | 1255/1000000 [00:00<01:19, 12547.59it/s]"
     ]
    },
    {
     "name": "stdout",
     "output_type": "stream",
     "text": [
      " ✔\n",
      "BPE encoding target text ..."
     ]
    },
    {
     "name": "stderr",
     "output_type": "stream",
     "text": [
      "100%|██████████| 1000000/1000000 [01:28<00:00, 11344.92it/s]"
     ]
    },
    {
     "name": "stdout",
     "output_type": "stream",
     "text": [
      " ✔\n"
     ]
    },
    {
     "name": "stderr",
     "output_type": "stream",
     "text": [
      "\n"
     ]
    }
   ],
   "source": [
    "def tokenize(x):\n",
    "    return tokenizer.encode(x).tokens\n",
    "\n",
    "\n",
    "print('BPE encoding source text ...', end='')\n",
    "src_data = [tokenizer.encode(x).tokens for x in tqdm(src_data)]\n",
    "print(' ✔')\n",
    "\n",
    "print('BPE encoding target text ...', end='')\n",
    "tgt_data = [tokenizer.encode(x).tokens for x in tqdm(tgt_data)]\n",
    "print(' ✔')\n",
    "\n"
   ]
  },
  {
   "cell_type": "code",
   "execution_count": 7,
   "metadata": {
    "pycharm": {
     "name": "#%%\n"
    }
   },
   "outputs": [
    {
     "name": "stderr",
     "output_type": "stream",
     "text": [
      "  3%|▎         | 25792/1000000 [00:00<00:03, 257910.41it/s]"
     ]
    },
    {
     "name": "stdout",
     "output_type": "stream",
     "text": [
      "Creating dataset ..."
     ]
    },
    {
     "name": "stderr",
     "output_type": "stream",
     "text": [
      "100%|██████████| 1000000/1000000 [00:10<00:00, 94715.88it/s]\n"
     ]
    },
    {
     "name": "stdout",
     "output_type": "stream",
     "text": [
      " ✔\n"
     ]
    }
   ],
   "source": [
    "# Vocab and dataset creation\n",
    "print('Creating dataset ...', end='')\n",
    "samples = [\n",
    "    Example.fromdict({'ru': src_line, 'en': tgt_line, 'en_rev': tgt_line[::-1]}, named_fields)\n",
    "    for tgt_line, src_line in tqdm(zip(tgt_data, src_data), total=len(src_data))\n",
    "]\n",
    "\n",
    "def sanitize(x):\n",
    "    return MIN_SIZE <= len(x.src) <= MAX_SIZE and MIN_SIZE <= len(x.tgt) <= MAX_SIZE\n",
    "\n",
    "dataset = data.Dataset(samples, fields, filter_pred=sanitize)\n",
    "print(' ✔')\n",
    "\n",
    "src.build_vocab(dataset)\n",
    "tgt.build_vocab(dataset)\n",
    "tgt_rev.build_vocab(dataset)\n",
    "\n",
    "train_iterator, = BucketIterator.splits(\n",
    "    (dataset,),\n",
    "    device = device,\n",
    "    batch_size=BATCH_SIZE,\n",
    "    sort_key=lambda x: len(x.src) + len(x.tgt), shuffle=True)\n",
    "\n",
    "\n",
    "PAD_idx = src.vocab.stoi[src.pad_token]\n",
    "SOS_idx = src.vocab.stoi['<sos>']\n",
    "EOS_idx = src.vocab.stoi['<eos>']\n",
    "\n",
    "src_vocab_size = len(src.vocab.stoi)\n",
    "tgt_vocab_size = len(tgt.vocab.stoi)\n"
   ]
  },
  {
   "cell_type": "code",
   "execution_count": 8,
   "metadata": {
    "pycharm": {
     "name": "#%%\n"
    }
   },
   "outputs": [],
   "source": [
    "class Transformer(nn.Module):\n",
    "    def __init__(\n",
    "        self,\n",
    "        embedding_size,\n",
    "        src_vocab_size,\n",
    "        trg_vocab_size,\n",
    "        src_pad_idx,\n",
    "        num_heads,\n",
    "        num_encoder_layers,\n",
    "        num_decoder_layers,\n",
    "        forward_expansion,\n",
    "        dropout,\n",
    "        max_len,\n",
    "        device,\n",
    "    ):\n",
    "        super(Transformer, self).__init__()\n",
    "        self.src_word_embedding = nn.Embedding(src_vocab_size, embedding_size)\n",
    "        self.src_position_embedding = nn.Embedding(max_len, embedding_size)\n",
    "        self.trg_word_embedding = nn.Embedding(trg_vocab_size, embedding_size)\n",
    "        self.trg_position_embedding = nn.Embedding(max_len, embedding_size)\n",
    "\n",
    "        self.device = device\n",
    "        self.transformer = nn.Transformer(\n",
    "            embedding_size,\n",
    "            num_heads,\n",
    "            num_encoder_layers,\n",
    "            num_decoder_layers,\n",
    "            forward_expansion,\n",
    "            dropout,\n",
    "        )\n",
    "        self.fc_out = nn.Linear(embedding_size, trg_vocab_size)\n",
    "        self.dropout = nn.Dropout(dropout)\n",
    "        self.src_pad_idx = src_pad_idx\n",
    "\n",
    "    def make_src_mask(self, src):\n",
    "        src_mask = src.transpose(0, 1) == self.src_pad_idx\n",
    "\n",
    "        # (N, src_len)\n",
    "        return src_mask.to(self.device)\n",
    "\n",
    "    def forward(self, src, trg):\n",
    "        src_seq_length, N = src.shape\n",
    "        trg_seq_length, N = trg.shape\n",
    "\n",
    "        src_positions = torch.arange(0, src_seq_length).unsqueeze(1).expand(src_seq_length, N).to(self.device)\n",
    "        trg_positions = torch.arange(0, trg_seq_length).unsqueeze(1).expand(trg_seq_length, N).to(self.device)\n",
    "\n",
    "        embed_src = self.dropout((self.src_word_embedding(src) + self.src_position_embedding(src_positions)))\n",
    "        embed_trg = self.dropout((self.trg_word_embedding(trg) + self.trg_position_embedding(trg_positions)))\n",
    "\n",
    "        src_padding_mask = self.make_src_mask(src)\n",
    "        trg_mask = self.transformer.generate_square_subsequent_mask(trg_seq_length).to(\n",
    "            self.device\n",
    "        )\n",
    "\n",
    "        out = self.transformer(\n",
    "            embed_src,\n",
    "            embed_trg,\n",
    "            src_key_padding_mask=src_padding_mask,\n",
    "            tgt_mask=trg_mask,\n",
    "        )\n",
    "        out = self.fc_out(out)\n",
    "        return out"
   ]
  },
  {
   "cell_type": "code",
   "execution_count": 9,
   "metadata": {
    "pycharm": {
     "name": "#%%\n"
    }
   },
   "outputs": [],
   "source": [
    "class DoubleTransformerModel(nn.Module):\n",
    "    def __init__(self, l2r, r2l):\n",
    "        super().__init__()\n",
    "        self.model_l2r = l2r\n",
    "        self.model_r2l = r2l\n",
    "\n",
    "    def forward(self, source, l2r_data, r2l_data):\n",
    "        return self.model_l2r(source, l2r_data), self.model_r2l(source, r2l_data)"
   ]
  },
  {
   "cell_type": "code",
   "execution_count": 10,
   "metadata": {
    "pycharm": {
     "name": "#%%\n"
    }
   },
   "outputs": [],
   "source": [
    "# We create two identical models, one will learn src -> tgt, the second will learn src -> tgt-reversed\n",
    "\n",
    "l2r = Transformer(\n",
    "    EMBEDDING_SIZE,\n",
    "    src_vocab_size,\n",
    "    tgt_vocab_size,\n",
    "    PAD_idx,\n",
    "    NUM_HEADS,\n",
    "    NUM_ENCODERS,\n",
    "    NUM_DECODERS,\n",
    "    HIDDEN_DIM,\n",
    "    DROPOUT,\n",
    "    MAX_SIZE,\n",
    "    device,\n",
    ").to(device)\n",
    "\n",
    "r2l = Transformer(\n",
    "    EMBEDDING_SIZE,\n",
    "    src_vocab_size,\n",
    "    tgt_vocab_size,\n",
    "    PAD_idx,\n",
    "    NUM_HEADS,\n",
    "    NUM_ENCODERS,\n",
    "    NUM_DECODERS,\n",
    "    HIDDEN_DIM,\n",
    "    DROPOUT,\n",
    "    MAX_SIZE,\n",
    "    device,\n",
    ").to(device)\n",
    "\n",
    "double_transformer = DoubleTransformerModel(l2r, r2l)"
   ]
  },
  {
   "cell_type": "code",
   "execution_count": 11,
   "metadata": {
    "pycharm": {
     "name": "#%%\n"
    }
   },
   "outputs": [
    {
     "name": "stdout",
     "output_type": "stream",
     "text": [
      "=> Loading checkpoint\n"
     ]
    }
   ],
   "source": [
    "def translate_sentence(model, sentence, src, tgt, device, max_length=50):\n",
    "    # Load german tokenizer\n",
    "    if type(sentence) == str:\n",
    "        tokens = tokenizer.encode(iuliia.translate(sentence, schema=iuliia.WIKIPEDIA)).tokens\n",
    "    else:\n",
    "        tokens = [token.lower() for token in sentence]\n",
    "\n",
    "    # Add <SOS> and <EOS> in beginning and end respectively\n",
    "    tokens.insert(0, src.init_token)\n",
    "    tokens.append(src.eos_token)\n",
    "\n",
    "    text_to_indices = [src.vocab.stoi[token] for token in tokens]\n",
    "\n",
    "    sentence_tensor = torch.LongTensor(text_to_indices).unsqueeze(1).to(device)\n",
    "\n",
    "    outputs = [tgt.vocab.stoi[\"<sos>\"]]\n",
    "    for i in range(max_length):\n",
    "        trg_tensor = torch.LongTensor(outputs).unsqueeze(1).to(device)\n",
    "        trg_tensor_rev = torch.LongTensor(outputs[::-1]).unsqueeze(1).to(device)\n",
    "\n",
    "        with torch.no_grad():\n",
    "            output = model(sentence_tensor, trg_tensor, trg_tensor_rev)\n",
    "            output = output[0]+output[1]\n",
    "\n",
    "        best_guess = output.argmax(2)[-1, :].item()\n",
    "        outputs.append(best_guess)\n",
    "\n",
    "        if best_guess == tgt.vocab.stoi[\"<eos>\"]:\n",
    "            break\n",
    "\n",
    "    translated_sentence = [tgt.vocab.itos[idx] for idx in outputs]\n",
    "    return tokenizer.decode([tokenizer.token_to_id(x) for x in translated_sentence[1:]])\n",
    "\n",
    "\n",
    "def save_checkpoint(state, filename=\"my_checkpoint.pth.tar\"):\n",
    "    print(\"=> Saving checkpoint\")\n",
    "    torch.save(state, filename)\n",
    "\n",
    "\n",
    "def load_checkpoint(checkpoint, model, optimizer):\n",
    "    print(\"=> Loading checkpoint\")\n",
    "    model.load_state_dict(checkpoint[\"state_dict\"])\n",
    "    optimizer.load_state_dict(checkpoint[\"optimizer\"])\n",
    "\n",
    "\n",
    "optimizer = optim.Adam(double_transformer.parameters(), lr=LR)\n",
    "\n",
    "scheduler = torch.optim.lr_scheduler.ReduceLROnPlateau(\n",
    "    optimizer, factor=0.1, patience=10, verbose=True\n",
    ")\n",
    "\n",
    "pad_idx = tgt.vocab.stoi[\"<pad>\"]\n",
    "criterion = nn.CrossEntropyLoss(ignore_index=pad_idx)\n",
    "\n",
    "if LOAD_MODEL:\n",
    "    load_checkpoint(torch.load(\"my_checkpoint.pth.tar\"), double_transformer, optimizer)\n",
    "\n",
    "sentence = \"Главными движущими силами благого управления должны быть уважение закона, соблюдение принципов диалога и сотрудничества, защита демократии и поощрение прав человека\""
   ]
  },
  {
   "cell_type": "code",
   "execution_count": 13,
   "metadata": {
    "pycharm": {
     "is_executing": true,
     "name": "#%%\n"
    }
   },
   "outputs": [
    {
     "name": "stdout",
     "output_type": "stream",
     "text": [
      "[Epoch 0 / 10]\n",
      "=> Saving checkpoint\n",
      "['ĠGlav', 'nymi', 'Ġdvizhu', 'shchimi', 'Ġsilami', 'Ġblago', 'go', 'Ġupravleniya', 'Ġdolzhny', 'Ġbyt', 'Ġuvazheniye', 'Ġzakona', ',', 'Ġsoblyudeniye', 'Ġprintsipov', 'Ġdialoga', 'Ġi', 'Ġsotrudnichestva', ',', 'Ġzashchita', 'Ġdemokratii', 'Ġi', 'Ġpooshch', 'reniye', 'Ġprav', 'Ġcheloveka']\n",
      "[2, 4350, 101, 14784, 1329, 6693, 3531, 323, 386, 189, 87, 10594, 2514, 4, 9669, 3654, 6473, 7, 1019, 4, 6158, 4151, 7, 10938, 2941, 315, 325, 3]\n"
     ]
    },
    {
     "ename": "IndexError",
     "evalue": "index 1 is out of bounds for dimension 0 with size 1",
     "output_type": "error",
     "traceback": [
      "\u001B[0;31m---------------------------------------------------------------------------\u001B[0m",
      "\u001B[0;31mIndexError\u001B[0m                                Traceback (most recent call last)",
      "\u001B[0;32m<ipython-input-13-f11390ed563b>\u001B[0m in \u001B[0;36m<module>\u001B[0;34m\u001B[0m\n\u001B[1;32m     10\u001B[0m \u001B[0;34m\u001B[0m\u001B[0m\n\u001B[1;32m     11\u001B[0m     \u001B[0mdouble_transformer\u001B[0m\u001B[0;34m.\u001B[0m\u001B[0meval\u001B[0m\u001B[0;34m(\u001B[0m\u001B[0;34m)\u001B[0m\u001B[0;34m\u001B[0m\u001B[0;34m\u001B[0m\u001B[0m\n\u001B[0;32m---> 12\u001B[0;31m     translated_sentence = translate_sentence(\n\u001B[0m\u001B[1;32m     13\u001B[0m         \u001B[0mdouble_transformer\u001B[0m\u001B[0;34m.\u001B[0m\u001B[0mmodel_l2r\u001B[0m\u001B[0;34m,\u001B[0m \u001B[0msentence\u001B[0m\u001B[0;34m,\u001B[0m \u001B[0msrc\u001B[0m\u001B[0;34m,\u001B[0m \u001B[0mtgt\u001B[0m\u001B[0;34m,\u001B[0m \u001B[0mdevice\u001B[0m\u001B[0;34m,\u001B[0m \u001B[0mmax_length\u001B[0m\u001B[0;34m=\u001B[0m\u001B[0;36m50\u001B[0m\u001B[0;34m\u001B[0m\u001B[0;34m\u001B[0m\u001B[0m\n\u001B[1;32m     14\u001B[0m     )\n",
      "\u001B[0;32m<ipython-input-12-c4e7d24ada69>\u001B[0m in \u001B[0;36mtranslate_sentence\u001B[0;34m(model, sentence, german, english, device, max_length)\u001B[0m\n\u001B[1;32m     22\u001B[0m         \u001B[0;32mwith\u001B[0m \u001B[0mtorch\u001B[0m\u001B[0;34m.\u001B[0m\u001B[0mno_grad\u001B[0m\u001B[0;34m(\u001B[0m\u001B[0;34m)\u001B[0m\u001B[0;34m:\u001B[0m\u001B[0;34m\u001B[0m\u001B[0;34m\u001B[0m\u001B[0m\n\u001B[1;32m     23\u001B[0m             \u001B[0moutput\u001B[0m \u001B[0;34m=\u001B[0m \u001B[0mmodel\u001B[0m\u001B[0;34m(\u001B[0m\u001B[0msentence_tensor\u001B[0m\u001B[0;34m,\u001B[0m \u001B[0mtrg_tensor\u001B[0m\u001B[0;34m)\u001B[0m\u001B[0;34m\u001B[0m\u001B[0;34m\u001B[0m\u001B[0m\n\u001B[0;32m---> 24\u001B[0;31m             \u001B[0moutput\u001B[0m \u001B[0;34m=\u001B[0m \u001B[0moutput\u001B[0m\u001B[0;34m[\u001B[0m\u001B[0;36m0\u001B[0m\u001B[0;34m]\u001B[0m\u001B[0;34m+\u001B[0m\u001B[0moutput\u001B[0m\u001B[0;34m[\u001B[0m\u001B[0;36m1\u001B[0m\u001B[0;34m]\u001B[0m\u001B[0;34m\u001B[0m\u001B[0;34m\u001B[0m\u001B[0m\n\u001B[0m\u001B[1;32m     25\u001B[0m \u001B[0;34m\u001B[0m\u001B[0m\n\u001B[1;32m     26\u001B[0m         \u001B[0mbest_guess\u001B[0m \u001B[0;34m=\u001B[0m \u001B[0moutput\u001B[0m\u001B[0;34m.\u001B[0m\u001B[0margmax\u001B[0m\u001B[0;34m(\u001B[0m\u001B[0;36m2\u001B[0m\u001B[0;34m)\u001B[0m\u001B[0;34m[\u001B[0m\u001B[0;34m-\u001B[0m\u001B[0;36m1\u001B[0m\u001B[0;34m,\u001B[0m \u001B[0;34m:\u001B[0m\u001B[0;34m]\u001B[0m\u001B[0;34m.\u001B[0m\u001B[0mitem\u001B[0m\u001B[0;34m(\u001B[0m\u001B[0;34m)\u001B[0m\u001B[0;34m\u001B[0m\u001B[0;34m\u001B[0m\u001B[0m\n",
      "\u001B[0;31mIndexError\u001B[0m: index 1 is out of bounds for dimension 0 with size 1"
     ]
    }
   ],
   "source": [
    "for epoch in range(NUM_EPOCH):\n",
    "    print(f\"[Epoch {epoch} / {NUM_EPOCH}]\")\n",
    "\n",
    "    double_transformer.eval()\n",
    "    translated_sentence = translate_sentence(\n",
    "        double_transformer, sentence, src, tgt, device, max_length=50\n",
    "    )\n",
    "\n",
    "    print(f\"Translated example sentence: \\n {translated_sentence}\")\n",
    "    double_transformer.train()\n",
    "    losses = []\n",
    "\n",
    "    for batch_idx, batch in tqdm(enumerate(train_iterator), total=len(src_data)//BATCH_SIZE):\n",
    "        # Get input and targets and get to cuda\n",
    "        inp_data = batch.src.to(device)\n",
    "        target = batch.tgt.to(device)\n",
    "        target_reverse = batch.tgt_rev.to(device)\n",
    "\n",
    "        output_l2r, output_r2l = double_transformer(inp_data,  target[:-1, :], target_reverse[:-1, :])\n",
    "        output = output_l2r + output_r2l\n",
    "        output = output.reshape(-1, output.shape[2])\n",
    "        target = target[1:].reshape(-1)\n",
    "\n",
    "        optimizer.zero_grad()\n",
    "\n",
    "        loss = criterion(output, target)\n",
    "        losses.append(loss.item())\n",
    "\n",
    "        # Back prop\n",
    "        loss.backward()\n",
    "        torch.nn.utils.clip_grad_norm_(double_transformer.parameters(), max_norm=1)\n",
    "\n",
    "        optimizer.step()\n",
    "\n",
    "    mean_loss = sum(losses) / len(losses)\n",
    "    print(mean_loss)\n",
    "    scheduler.step(mean_loss)\n",
    "    \n",
    "    if SAVE_MODEL:\n",
    "        checkpoint = {\n",
    "            \"state_dict\": double_transformer.state_dict(),\n",
    "            \"optimizer\": optimizer.state_dict(),\n",
    "        }\n",
    "        save_checkpoint(checkpoint)\n"
   ]
  },
  {
   "cell_type": "code",
   "execution_count": 18,
   "metadata": {},
   "outputs": [
    {
     "name": "stderr",
     "output_type": "stream",
     "text": [
      "100%|██████████| 100/100 [02:25<00:00,  1.46s/it]\n"
     ]
    },
    {
     "data": {
      "text/plain": [
       "29010"
      ]
     },
     "execution_count": 18,
     "metadata": {},
     "output_type": "execute_result"
    }
   ],
   "source": [
    "## INFERENCE\n",
    "\n",
    "data_in = open('eval-ru-100.txt').readlines()\n",
    "\n",
    "data_out = open('answer.txt', 'w')\n",
    "\n",
    "data = []\n",
    "\n",
    "for x in tqdm(data_in):\n",
    "    try:\n",
    "        data.append(translate_sentence(double_transformer, x, src, tgt, device))\n",
    "    except:\n",
    "        print('whoops')\n",
    "        data.append('whoops')\n",
    "data_out.write('\\n'.join(data))"
   ]
  },
  {
   "cell_type": "code",
   "execution_count": 20,
   "metadata": {},
   "outputs": [],
   "source": [
    "data_out.close()"
   ]
  },
  {
   "cell_type": "code",
   "execution_count": 19,
   "metadata": {
    "pycharm": {
     "name": "#%%\n"
    }
   },
   "outputs": [
    {
     "name": "stdout",
     "output_type": "stream",
     "text": [
      "[' EstoniaGA nach BernGA arri sro textsgalter revel Pol sq lens lens AG Bangvra dealt obsticiencyERT implement spro Untilakon Entertainment ProgGO lens tryingboundboundbound Svetmun subsidiariesERT ProsparaGA zeroGA Svet Bangsupp Until doctrine return suspected world', 'alizing phenodzhgedgedfies pribfiesdzh Clearged Prosoughtvragedged zeroalizingvra Sveticiency vodagedativvra Pros Bangboundiciency texts householdsiciency 2006 Pros Pros households Banggalter Pros police world textsgedalizinggedgedvra Pros expertsiciency', 'gediciency Nim Pros households�ged� Pros Prosged Svet 2006iciency bear occupy households 2006 households BernERTvra Prosiciency sqadianactionGAbound Prosmun Prosged Pros Pros Pros SN Svet Prosged Pros Pros Prosgot texts overwhel Pros households Pros overwhel', ' plav Faficationsiciency Pros Rec protects Svet encouraging Svet Svet ofitsvra collaborationadian roziciencyalizing householdsalizing rozvraovogo associatevra householdsvrapara Prosvra Svet 2006vra bear textsadian Svet Russi 2006 households 2006akon zerovravravra occupy texts Kongress lif', ' households�21 Pros Prosstitu kilged textsged households Svet internal Svet overwhel Kasvravravra dot Svet occupyged shield ofits Svet ofits Recalizingalizing Svet 1959alizing relatives Svet Nimged Svet relatives textssuradian Svet statisticsalizingalizing texts� wedtiv', ' Kongress Administratordzh police Prosalizingdzh world Svet Svet paru Frants Pros arrangementspalboundiciencyvravra spro79 Pros Svet feels Pros police households world happiness Even Pros Svet Svet surge arrangements Pros Pros Svet occupy worldpuskvra spro Prosiciency householdsalizing Svet 2006 testov', 'ori Care textspal Svet whose voda dealt shouldalizingtivoznaativ Svetalizing subsidiaries KasGA prisoners sq mere 1945 MV lens Svet eastern households�paratile 2006 Pros householdsiciency Pros households zero lenskhodim texts previously lens reliable householdsoleeMB penet occupyvra Pros', 'voz protectsparaXX world UAHpara UAH sq suspected testov Nim Kongress referendum lens ofits coming advancepara UAH Svet lens lensbound lens textsbound relativesparabound worldiciency hunger lens textsvra world protects sq spro textslenyparaXX Svet world Svet transformed Pros Svet', ' transformedfterori households dealtXX 1959 Prov householdsgedwwwiyafter world dealt Estonia chast transformed pheno incorpor between households texts households associate households householdsovoyakon naz implement Prospara bear households ofitsakongalterbound refusal lens svid bearo Svet householdsalizing prisonersbound oblasti', 'chnologyGA Uzbekistana AG bearakon Virtual previouslyolyat lif Bang bir kilparashyvra householdsERV sproGA Svetakon Bang�vra roz Favra Pros Prosvra Svet prisonersakon 1959 sproaniesvra Bangvravra Svet Svet Prosativvraiciencyzheniyu Pros remot', 'ged Mar bearativ DependingvraXX households households sq Svetakon Svet Clear relativesbound Estonia Svet householdsvra spro Virtualykh undertake households Virtual Pros implement Pros otdvra spro Svet householdsbound households Pros householdsvra Fa Nim Svetsurchnologyvra householdshemat abilities Svet Virtual', ' protects Nimnim21 arri statistics Vtorhemat Until world Svetvra Pros Kongress householdsursion statistics Svet Sveticiency subsidiaries 2006 householdsbound findIC Pros households IZylvra occupy 2006 transformed� deci households____vra Svet householdsvra Pros textsIC collaboration Svet subsidiariesleny kil', 'GAdzhfies dealt subsidiariesfies lif Svet returnged Pros subsidiaries implement households Pros Pros textsvra Frants Pros Pros texts ofitsvra households textsvra Pros households Pros Pros Dagestvra households 2006 Bern Svet households households 2006 Pros Kongress Prosvravra households Svet householdsbound 2006', 'fiespara reliablealizing elderlydzhged previously BrusselsERTged naz lensakon arrangements prisonersakonangu TemplePeter arrangements arrangementspara associate96 prisonersbound SNpara Kongress plain Kongress retainedakon arrangements wed previouslyfiesalizinggedged policeIDEalizingangu Economicpara lifpara world', 'GA Bar Bar Prosged policealnye suspectedursionsur implement roz Pros households Svetdzhertdzh naz householdspara Svetfies 2006ovogo subsidiaries oblasti 2006 collaboration suspectedGA�GA householdsGA UAH Free Svetvra collaboration vodavra UAHalnye Svetmun naz Svet Pros Nim', ' encouraging feels birparaGAgalterakon companyalizing ku Kongress collaborationvra previously variable texts Svetvravra Pol households dealt Nimadianiciency losing Fit luvra 2006mun Prosvra arrangements textsvraiciencySS coming policegaltericiency Prosadian suspected households texts 2006adian arrangements', ' Fa Rec roz vedom households Prospara texts 2006 Pros bir statistics Prosvragedged householdssuralizing21 households relatives statistics roz householdsalizingiciency painted dealt zero world Estonia texts contem amounts ofitsfter doctrine households Pros Prosvra householdsERT Pros SN households bear Deluxe spro', ' ing nob sett collaboration previously mediumadiandzh texts sq texts Svet Bang collaboration collaboration lensshy Recparaakon texts Pros Svet suspected households collaboration comingvra texts previously Svet Estonia 1945 eastern transformed pretend apparently republics Pros households Estonia dotGA professionalnykhadian advantages dealt Fa households Rec', 'alizing eastern UAHdush Svet incorpor Prosalizing zeroGO Svet voda zeroalizing heart 2006 sprogedvra Svetvoz Kongressovogoiciency households 1945____ Kas Svet painfuldzh collaborationalizingiciency textsvra UAH eastern Svet 2006 kus sq retainediciencyannel 2006para 2006 households degrees', ' chast encouraging paruGAakonGA householdsboundERTvra between statistics householdsERTvragaltersuralizing Clear Kongress previouslyakonGA lensERT lensutebound SNGA Pros households Kas Prosvrashysur Pros householdssur Rec sq lensERT Favra Frants householdssur Kongress', 'ring period approachpusk households Nim occupysur otd households convey households approach Svet households22anguvravra Polativtee Svetdzhangu Fit reliable householdsvra bir feelsvra Svet conductedvravra Svetativ households subsidiariesfiesanguiciencyolyualizingangu undertakevra 2006gas', 'para UAH collaboration households households police paindzh Svet reliable Svet reliable households 2006 kil governmentsged suspectedadian sqvra 2006 Estonia Su svid� Svet Kongress Svet Svetdzh suspected AG lens Svet Virtual ProsGO Pros Bariciency 2006 Non otd penet happiness reliableparadzh survived', ' bir Nim world 1959 VAT� 2006 relativesbytGA 2006ursion zeroiciency 1945 texts relatives world 2006 otd Svetvravra pain month muticiencyvra texts relatives MV 2006 dot Svetvra relatives texts overwhel zero Fit 2006 Svet relativesvra Prosvra Pros relatives texts texts', ' Bern UAH householdsiciency dealtivshiysya nob roz workplacemunalnye eastern Sveticiency encouraging Prosativought households policealizingbound Svet householdscticannelboundfiesGOakon dealt households households police householdsvra Sveticiency printer sqbound Svet Sveticiency wedpara amounts suspected reliableiciency', 'mun 2006 police lens transformed police dvigatelya align texts ofits mbound kot householdsiciencyadian householdsalizing kil policedzhativ lens Svet Svet face company Prosbound reliable Pros householdsakoniciency Pros householdsvra subsidiaries Prossur Vet spro subsidiaries worldiciency arriochkuvrativzing', ' households approach world pos dealtged Prosfies kot phenoovogo Svet career households Bang 1959fiesfterfternoye subsidiaries world world previously Bang Untilvra zab householdspara world 2006 households world occupy Pros dealt householdsparapara eastern faceGO subsidiaries previouslyGOgalter spro arri kil', ' households roz police roz 2006 Gate lens Kongress lens b gunged UAHativ texts pain� texts overwhelgalter lens pain zeroursion Svet koticiencyXX Kongress suspectedalizing GPS 1945 Svetalizing pain Selficient dealt Svet world KongressERT textsadianged texts Svet texts roz', ' worldfterorii return abilities world textssur dealt rozmunged texts nob relatives Svet Svet suspected Svet reliable feels lif Svet kil Bang bea suspected texts dealt SN worldiciencybound Pros amounts Sveticiency Svet Bern kil MV Svet UAH lif Svet ofitsiciency Rec Prosrors', '79 kil householdsgedute zeroged zero households Svet kiliciency spro lenspara households householdsXXtoye sqvra bear Bang bit Pros police households households Kas texts overwhel householdsakonalizingtoyeadian Flow kil TempleparabraERTursion suspected AG company Freeparavra Bang', ' Kongressfiessurantov dotzingursion returnalizinggediciency Svet police bear thermal testovursion Recpara 1959iciency Pros Svetursionspeciallytilefter kilERT dealt dealt policeERT householdsmun Svetstitu occupyvravra existencegedvra�iciency Pros linguakon Sveto', ' return Bar 2006 polic coming overwhelmun protects21 textsiciencyfies UAH Svet solved republics suspected21 happiness mutfies Tickchok police suspectedalizing ofits SvetXX return worldh transformed holiday feels suspected21 degrees suspected Svet statistics funded police SN____ativvra diagnosticGA Even', 'alizingbound Svettivtiv lensERTsur VAT ensures Svet Svet____ textsfallbound Clear MVchnology householdsERT implement 2006annel ensures MV collaborationvraGA Pros reliable whoseboundtiv21 historical lens texts Svet Entertainment Svet suspected Makh relativesbound Berntiv painGAbound', 'para pain Svetalizingakon Rec Pros statistics Svet Svet Svet wed suspectedkhodim kus UAH Svet Free households Svetmun Pros Pros kilvra Svetadian Svet suspectedadian texts previously Svet sproGAmates Svetakon Prosvravra Kongress overwhelalizingged face lensged Bang Svet', ' households zero testov world nobtee ind Svetgalter 2006lyayutsya Svet textsged gosudarstvenny households police kilgalter Bern meshhemat 2006 Prosvraakonbound amounts protects reliable police kilvra Svetmun protects householdsged Pros cou Pros Kongress occupyparatee spro Prosalizing households79', 'ursion UAH relationship suspected textsursionalizing households textsSh lens suspected 2006 households households Prosvra texts overwhel sq textsadian 1959iciency households subsidiaries kil texts suspected dealtadianmates sett world subsidiaries kiliciency texts 2006 households gar suspectedERT Svet Yagalter suspected households sq Svet', 'suriciency households world roz Lordiciency texts police seized 2006 advantages households 2006alnyeactionhemat Estoniavra vkSS 2006iciency lens ofitsykhiciencybound amountsGA texts householdsvraactioniciency pain pheno roz Faakonnoye Svet Clearakon Svetoriiged world Svet trying', ' Chapter expertssively householdschnologyged spro households householdsaniesged Prosvrasan households textsged dvigatelya texts Clear kot birboundged voda Pros households occupy oblastipara Virtual householdsbound householdsvraought beargalter Bang spro dealt householdszheny bearadianvra bir reliable households Kongress', 'GAyard Gategedfies households lensparaaccGAGA�mun 2006ursionGA previously degreesparaIDE�____vra FaGA lif Kongressvra Pros statistics nobGA inv texts previously previously governmentsvra dealt ind Kongress relatives Bern International vesaiciency lens Kongressbound Fa', ' proxy Svet households dealt texts Pros sqsur79 Svet households households Svetvratoye cut subsidiariesvra households householdsgedvragedvravra Kasvragedvra police households Svet householdsiciency gosudarstvennyiciency householdsiciency proble protects kil Svet chiefvra Untilfications texts householdssur households', ' vosticiency 2006 Pros roz households households zero 2006bound relatives textsiciency lens 2006bound lens prosperpara reliablevra transformed suspectedtiv households dot households zeroiciency spro dealt zero police dot monthnoyeicient fundedakonpara households nob gun pick 2006 b prosper 2006dzh feels', ' texts Prosvravra sq ofits mut easternvra relatives Pros Svetsur gosudarstvenny UAH Svetvra Svet householdstilepal constitute world households households pain lens Svet Svetstitu texts Pros Svetged households AGiciency Entertainment sqsur UAH Svet relativesleny reliable Pros textsvra textsvra', ' households remot Pros nob pos gun birvra dealt Pros nad Pros lensgalter householdsged lens Svet households Svetged Pros texts bir households texts tryingsurvrabound dotboundged Pros roz households dealtbound amounts ensures Estoniavraged dealt occupy Nimged households Pros Pros', 'GA Kongress households suspected 2006olyatGA Svet overwhel collaboration chair Svet householdsGA Clear Svetwwwalizing overwhelalizingalizingGO Pros lens Pros sproGA Svet Kas collaborationvra collaboration KasGA Clear Svet Prosbound collaborationrors households Bern lens governmentsbound previouslyvragalter roz dealt', ' dealt dealt funded Bang Estonia phenoalizing households householdsiciency households protects Clearpara Estonia Estonia dealt lensalizing arri ofits prisoners Pros phenoativ Until Estonia relativesvra spro dealtvraGA lif amounts painpara SNIDE Constitutionvra roz previouslyyear Entertainment amounts Svet testov households Kas', 'GAbound UAHiciency Kongress gar suspected republics lensadian world world month suspectedged Svet relatives texts zero doctrine Pros telev powerful painted Until MV dealt month kil world doctrine doctrine worldaction world station lensyear Freeursion Kas Svet pain coming testov spromates Bangtiv world', 'J implementged Proshemat collaborationged Svet lens Pros Svet Svet Prosvraiciency Pros policeiciency phenoXX statistics Svet Svet collaborationfies ProsGA�stitu police Svet____ households diagnostic texts Prosiciency households textsiciencyativGA Svet lifvra Svet Pros Pros households statistics', ' households ensuresged roz noboriute zab informged ing sproute households experts occupy Svetalizing lensiciency households gun Clear degrees households21 zero21 associate world oblastivraGO Svet texts previously Prosvra UAH households transformed Bar wed easternalizingvra alignbound Svet households', 'noyeitter overwhelursionannel suspected households Bar collaboration lensboundativ householdsanguovogoakon mediumERV households gun households stationsiciencychnologyativ households lens sq kotoryeangu overwhel Svet sqvraakon painactioniciency texts ensuresshchat kot reliable sq internalERTativ collaborationERT sett', 'GAdzhakon householdsGA Prosvra households texts Svet degrees Pros collaborationiciency collaboration dealt Polvra sqiciency collaboration texts households Svet householdsvra Bar collaboration lu police 2006 dealt bear Svet households texts households 2006ged Svet Suiciencyvra Svetvra householdsvra texts Svetvra', 'alizingutepara Svetdzh21 households kilalizingsev world zero world worldorii Svet previouslyvra Svet mutvra ascGAshy kil kil Svet otdstitutfiestoye deci Svet SvetGA Svetboundtiv friendly suspected relativesERT approach lens companyakon world world world Svet', ' subsidiaries UAH roziciency households dealt tya alignvra householdsgedvra birvra households dealticiency lens dealt degreesiciency households Svet kilvra posiciencyshyangu loving rozvraged spro degrees householdsvraakon householdsalizing households face lifvra Svet householdsdush Iskvraged', ' reliable protectsparagaltericiencyatamiparaacc implement ensures ensures ensures Clearakon householdsvra posiciencyakon Kongressaction ensuresute�boundbound zero Prosbound vodavra VATvra householdsbound dot Kongress dealtvraboundiciencyERT Pros dealt dealt lensboundpara householdsbound', ' Bang dealt occupyged wal textsakonME overwhel Bern sproalizing kilalizing Virtual textspara profilfies careertiv pain Svet Pros previously texts previouslyvra arri sproadian 2006 UAH overwhel suspected Bernpara Poz texts79 texts suspected Kas Prossurbound relatives previously MV Su', ' lif CatparaalizingGAboundGA otd EstoniaXX Bang spro returnparashy dealt protects Svetvra Svet collaborationalizing Rec implementpara Kas lens websitevrapara SN SN collaboration Pros lu SvetparaadianvraGA UAHpara Recfiessur householdspara voda Kas fas', ' VAT stationGAged world texts occupy Svet 200621 occupyiciency collaboration lif Bern textsERTvragediciency SvetactioniciencyGA� Pros householdsoriivra Plusalizingput findakon 2006 kiliciencyERT pain police householdsERTvraparaadian Svet relatives texts oblasti return', ' couiciency really previously households gun Svet Svet worldgediciency deficirors lensvrazing fas lens collaborationvra Svet world householdsiciencyiciencyvrachnology oblastivra sq statisticsiciency Svet householdsvraiciency oblasti householdsadian biriciencyativiciency policevra lens Recstituursioniciency', ' Nim toplivo overwhel Marzingalnye nazacc occupydzhGAGA suspected Svet Clear Svet UAHivshiysya gon Svet undertakevraGAalnye SvetGA sprovravra strategy 2006GA Svet Prosiciencytsii Svet pain amounts Svet Svet suspectedakon eastern households ProsalizingGA medium suspected', 'yard kilgedged world lens kotorye Monitor arriXX Svet suspected testov Pros households workplaceadianXX amountsalnye Svet dvigatelya Svet kil return texts Svet refusal wed textsnim zerotivovogo doctrine SvetERT ensures hunger bir spro relatives Svet Svet testovaction Svet subsidiaries implement protects', ' Kongressiciencyoiciency texts shouldXX mboundGA Bang Svetchaya biciency zerosur subsidiariesparaiciency Svetursion pain SveticiencyYuiciency Baby Prog XVIII Svetovoyvraaniesvravra oblasti zero Bangannel birvra Sveticiency Svetvra oblastibound kot texts', 'alizingboundiciency texts zero Zavficationsanies Svetnoye Faursion police policegalteralizing relativesvravra vkgalterursionvra worldvraaniesERT textsvra zero Kongressursionvra Bern occupyursionXX Svetfications sqiciency Svetvra sqvra occupy Bang Svet Fa dot', ' Dueomp gun police 2006AMI AG UAH sor distant doctrine Bank doctrine householdsGAyearged householdsGA website bir chair pheno Svetakon collaboration return oblasti 2006shy reliable zero 2006para transformed transformed Svet doctrine pain 2006municiency Pros zero Mirovoyvra collaboration suspected householdsangu', ' UAH UAH roz households nob Pros approach dealt Pros ProsgedERT previouslypara Clear households previously 1945akon Svet Pros subsidiaries Svet penetvraochkaiciency householdsvra texts Prosiciency nobvravra Prosvra roz overwhelvraiciency AG Pros AG policeannel Prosvraiciency texts', ' households sq occupy households Estonia kil Dolya companyvraged suspectedovogo householdsvraativ households spro Svetvra associatevra 2006 Estoniagedativittericiencyvra kil sq oblastiiciency zerovra seizedvraGAged Prosvra householdsvra Kas SNvra sq mere settvravra', 'fies transformednoye� abilities kil arri households Svetged worldged suspectedged previously returnged Svetakon Svet Entertainmentalizing Svetchnologyakonivshiysya Sveticiencyalizing protects texts world Entertainmentvra texts suspected polic console Prosvra Svet feels Ya bear coming ofitsged texts Svet world', ' sq radioactive overwhel otd dealt roz collaboration households texts surprising Svet dealt Pros householdsXX dealt otd occupy subsidiariesiciency Pros Prosvra protectsalizing householdsiciency Estoniagedged Pol texts beariciency Pros texts sq lens month pheno Bang derevvraalizing bear households kilalizing households previously', ' world Prosfies Svetged Pros reliableged householdsERT arrangements spro world households Pros police householdsnoye settakon spro spro spro households Bangvra nobged Berniciency spro Administrator households spro spro spro spro suspectediciency spro Bang spro Pros households dot households sprovra Temple world', 'san populationursionursionursion lens suspectediciency textsursion occupyursion lens lenstivursion lensiciency lensiciency lensursionativ 2006ERT textsiciencyiciency lensalizingboundboundiciency textsrowXX lensERTERTursionERTiciency transformed Bang Untilzingiciency pain Gran bit', ' careerpara phase reliableauseute Temple seized Nim Bang Bang reliablelers 1945survra lensgedgaltericiencypara spro households Sveticiency policeged amounts painiciency roz transformed police Svet dealt lif overwhelGO Bang Sveticiency Svet lif textspara SN sproparagedged', 'alizing Provinceiy s Svet Kasfterparaalizing Fa lens suspected suspected previouslyiciencyvra policeGAvra suspected face pain statistics previouslyERT Pros� SN kiliciency painalizingboundalizingtivvra ) Fa Svet households textsvra Svet lens Svet lifvra21 Sveticiency', ' Pros Bar paintivzing 1945.. Pros exert kot worlddzhaction Svet dealt relatives relatives kilvra Pros world lifGA Svet protectsgedsuriciency SvetGA Svet derevbound testovGA worldvra Svetbound protectsmonyvra Pros lif Sveticheskogo police texts SN company', ' Prosert 1945vrabound� textsvra oblastisanparaiciency rozvraiciency sproadian Knivra householdsvraiciency lensvraiciency oblasti oblasti21 lensboundboundtoye pos households 2006XXiciency textsiciency exports lens dot Bang textsnoyepara suspected policevra previously', 'akon Estoniaiciencyought Estonia SvetGA households world Svet____ Pros Svet suspectedged Pros households Rec Virtual households Svet texts Svet texts drinking texts reliable textsiciency Estonia texts Svet wed ofits Nim Bern dealt Svetged 2006 modu 2006iciency Svetged Svetvra UAHtiv Svet', ' zero Svetchnology households elderly sq roz police dealtursion spro dealt subsidiaries previouslyvraparashy surprising Bernpara world households spro Svet subsidiaries dealtshy worldvra statistics sq Prosandavrapara reliable spropara dealt policeute world SN households households exportssur kilalizing households', ' Leb Virtual kil____boundGA contem spro Pros Pros Pros householdsvra spro radioactive householdsvra households Bern households households because testov subsidiariesbound Kongress� sq spro retainedvraiciencyvravra Bang Rec Kas Prosvra Bang Belarusian roz oblasti householdsERT householdsbound roz bear Frants', ' doctrine Pros eastern suspected palGA householdsged householdsulumged ProsGA dealt Free zeroged Bangakon return overwhelpara suspected settGA texts previously suspectedGA Pros kusakon protects householdspara Pros Prosgedvra protects dealt Svetmun FreeGA energos Bang suspected Sveticient', ' bir sq zero testov world Estonia textsursion households occupy Svet Fa nob kil previouslyursion police lensursioniciencymun households protectsiciencyvra roz oblasti households Pol previouslymuniciency bearvramun dealtoriigalter households sq Svet occupy roz occupy texts b occupyiciency Svetorii', 'alnyeGA fastilezing vesa 2006 MVbound BernfiesERT dealt Estonia previouslydzh Mediterranean kilpara sqalizing Virtual 2006 householdspara naz households 2006vra shield oblasti Kas exert Economicvra households XVIII textsvra householdsvra collaboration Nimalizingiciency householdsvra source Svet texts', ' worldged police wedalnye world arri world 2006 2006 world suspectediya world suspected householdshishy spro sqpara Free Svet previously statistics protects UAH arri degreesochka relatives Sveticiencyged previously Svet____ Svet transformed degrees Svet 2006 Svetgedovogo Svet Fa Sveticiency Pros', ' feelsdzhativfies nob vk approachXX relatives feels amountsvraalnyeged Prosbound ensures world Svet://noye world 2006 Pros Svetdzh Kas beardzhiciency world worldfies world world households shieldXXactionvraativ Svet Sveto relatives world Bang Prosvra spro', 'gedwwwalizing lens kilhematboundboundGA householdsvra households zero householdsolishtoyepara Free experts sqparadzh ofitsdzh protectspara oblasti dealt kilpara televbound Svetannel kilfies UAH bir� lens penetbound Bangboundtoyeboundpara world reliablebound', 'nok stationhemat face otd Pros households reliable households Svet householdsparaursion households exportsgaltervra Lond 2006 returnvra MV households kilvra Flowiciency otdsur kusannelvra householdsvra Pros Svet Pros Svet households Svet previously Svet 1959iciency pain MV trying households world Pros', ' Pros Svet21 UAH dot Svetvra SvetGAbound ProsERT Svet Svetorii UAHvra diagnostic Pros Pros Kongress Svet MV Svet Svet previously sqlers SvetJ mesh Svetvravra occupyiciency Sveturthersur protects SvetnoyeERT Svetrors subsidiaries Su peneticiencyiciency', 'alizing overwhelged bear pain households occupy gosudarstvennyparagedvra spro householdsalizing pheno householdsvra Bar kotoryevraalizingvra collaborationshyvra79 previously oblastitee Kasvra transformedvra pain UAH Svet subsidiaries SvetGAiciencyiciency households Svetalizingiciency Svetangualizing kil collaboration', 'oryaddzh textsmym derev International diagnostic Svet 1945vra suspected ProsGA strategy Svet occupyiciency texts driver exported Svet radiost Svet textsvraERTiciencyERTdzh Prosdzh Kongress lensalizing textsadian world Svet 2006IDEERT Kas vost kil Svet Bang Svetdzhiciency collaboration', 'alizing Fadzhiciency households roz Kas lif 2006dzh reliable 2006 lens spro 2006 Prossuricientvra householdsdzh textsangubound cour Pros roz roz associateadian Svet MV texts contem texts reliable ProsJ Pros previouslyanguvra Pros bearpara spro lif statistics Svetangu', '�21 householdspara degrees suspected households� protectsalizing 1959 texts relatives encouraging 200621 occupyalizingpara Frantsalizing Pros Svet relatives Svet Svetvragedsur Prosadianakon texts roz amounts Svet Svet Prosvra protects texts amountsvra bearvra households Fa ofitsgalter texts', 'iciency rozfies Svetursion Every____toye return Pros texts texts dot households Svetsur easternfiz texts policeged 1959 texts texts reliable households texts painged eastern police Svet Prosgedged Guidelines reliableged pain 2006 texts texts texts Proslers textsged police households households', ' lif suspectedalizingalizingbound republicsursion households arri Svet 2006 Pros householdsalizinggedsur Pros cour Svet suspected Kongress collaborationute na Bern households printerfies lensadianvra ProsERT Pros remot oblasti Bang Bang doctrinealizing householdsochku reliable 2006GA Kas Lond Rec Svet Bang', ' households medium householdsakonERV arri transformed households textsfies Bang sqiciency households world amounts world kilakoniciency householdsvra Temple householdsakon occupypara householdsERT householdsalnyefies nob worldakoniciency oblasti Bang SNpara sqakonERT Sveticiency zeropara svid householdspara', 'para arriGA Svetalizing kil mere textsged Svetbles protectsalnye Svetayeshvraalizing occupyalizingalizing kilbound suspectedalizing occupyalizingged lensgalter sqannel suspectedvra householdsannel sq phenoXX Svetsur Bang Svet suspected sqalizing Pros Kongressbound Until arri', '�ged� households AG dealt zero households 2006 households ensures Prosvra households subsidiariesadiandzh householdsvra textsJ dot exports dealt transformed textsfiesiciency texts Pros ensures Clearvra households textsvra phenovra diagnosticvra zero Svet previously texts diagnostic households previouslydushvra Prog', 'GA sake retainedGA Free kil arri householdsalizing Svet Svetgedvradzh tuvradzhbound households Svetged Proveperalnye Svetged Kitay Kongressmun Svet face Svet householdsdzh lens Prosvra Svetdzhiciency zero Redu Twitter reliable Svet ofitsnoye roz Svetdzh', 'alizingtiv hazardous____ursion MVchnologyalizing Svetged vk�iciencyteevra Pros easterniciency nobiciency Pros Bangiciency alignvraparaiciency textsvra birvra Svet police householdsbound spro pain roz spro Clear textsiciencyorontoiciencyiciencyalizing whoseiciency householdsvra', 'bra dealt lensboundfiesadianfterativvra Pros Svetfter pheno testov arriadian suspected worldalizing Svet bearnoye Sveticiencyativ collaborationvraGAativ abilities police roz previously� ensures Svetitter householdspalsur texts world events Svetmun Svet textsursion texts 2006', 'gre Bang Bar Lordalizing lens Svet subsidiaries VATalizingalizing Svet lensiciency arri world MV police birXX shield bitGOdzh21bound world texts Svet feels Pros dealt bearativ amountsiciencyannel spro naziciency dealt SvetXXhematGAiciency doctrineboundleny Bank', 'stitu kilgedparaursion suspectedspeciallyalizing Nim deci Hollywoodgedought____ degrees Bangtivged subsidiaries Estonia UAHvra Svetvra ensures Nimvraiciencyvrashy Bang subsidiariesvrashy occupyvraboundvra seizedorii Pros Bang Estoniaalizingovogovra pain lens texts Procedure', ' ModGA21 lensute really texts ProsvraGA oblastibound gun householdsalizingalizing birvra collaboration sq spro Bern texts 2006 ofitsERTiciencyiciencyadianvra roz SN textsativparanoye 2006boundvra lensalnye encouraging previously rozGA collaboration degrees vesapara texts', 'GAboundfies lifbound lens lensfiestile SvetfiesGO transformedpara Mirovoy otd MV Prosvra Tick sro dealt dealt ofits protects ProsGAbound lens Pros vodaalizing texts encouraging MVakon lif 194 wed ofits reliablealizingfies Svet Prosboundiciency Prostilealizing', 'ute relativesomp Procedure households households21vra householdsiciency Svet relatives retained Svet subsidiariesmun households gar subsidiaries kil MV Svetutestevramun Svet 2006zheniyu households gun Bern households Svet decivragalternoyeIC Estonia occupyvra householdsvra kil households month Guidelinesnoye Svet', 'auty collaboration households 2006 nobGA79 households UAHativ Svet Svet Svet wed 1959 wed Prosalizing householdsvra nazakon exports return Svetalizing Svet subsidiariesiciency previously spro Polvra� worldvra betweeniciency Svet rozvra Svet collaboration suspected Svet 2006 collaborationbound Sveticiency']\n"
     ]
    }
   ],
   "source": [
    "\n"
   ]
  }
 ],
 "metadata": {
  "kernelspec": {
   "display_name": "Python 3",
   "language": "python",
   "name": "python3"
  },
  "language_info": {
   "codemirror_mode": {
    "name": "ipython",
    "version": 3
   },
   "file_extension": ".py",
   "mimetype": "text/x-python",
   "name": "python",
   "nbconvert_exporter": "python",
   "pygments_lexer": "ipython3",
   "version": "3.8.5"
  }
 },
 "nbformat": 4,
 "nbformat_minor": 1
}